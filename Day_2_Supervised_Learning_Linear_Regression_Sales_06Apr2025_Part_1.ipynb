{
  "cells": [
    {
      "cell_type": "code",
      "execution_count": 3,
      "metadata": {
        "id": "noaaj2VTi357"
      },
      "outputs": [],
      "source": [
        "import pandas as pd\n",
        "import numpy as np"
      ]
    },
    {
      "cell_type": "code",
      "execution_count": null,
      "metadata": {
        "id": "3VpARVPrk_xD"
      },
      "outputs": [],
      "source": [
        "df= pd.read_csv(\"Advertising.csv\")"
      ]
    },
    {
      "cell_type": "code",
      "execution_count": null,
      "metadata": {
        "id": "vTaUQK4FlCCG"
      },
      "outputs": [],
      "source": [
        "df.head()"
      ]
    },
    {
      "cell_type": "code",
      "execution_count": null,
      "metadata": {
        "id": "bhLgRQVtIoRQ"
      },
      "outputs": [],
      "source": [
        "df.isna().sum()"
      ]
    },
    {
      "cell_type": "code",
      "execution_count": null,
      "metadata": {
        "id": "gpaICFd02Hep"
      },
      "outputs": [],
      "source": [
        "df.describe()"
      ]
    },
    {
      "cell_type": "code",
      "execution_count": null,
      "metadata": {
        "id": "CXgQ4Ixf6Bep"
      },
      "outputs": [],
      "source": [
        "df.shape"
      ]
    },
    {
      "cell_type": "code",
      "execution_count": null,
      "metadata": {
        "id": "zZZ_y6bNlCt5"
      },
      "outputs": [],
      "source": [
        "import matplotlib.pyplot as plt\n",
        "import seaborn as sns"
      ]
    },
    {
      "cell_type": "code",
      "execution_count": null,
      "metadata": {
        "id": "rbmxJVD0lJlP"
      },
      "outputs": [],
      "source": [
        "plt.figure(figsize = (8,4))\n",
        "sns.scatterplot(data=df, x='TV',y='sales')\n",
        "plt.title('Sales vs TV Spend')\n",
        "plt.show()"
      ]
    },
    {
      "cell_type": "markdown",
      "metadata": {
        "id": "jVPRCueH7RyE"
      },
      "source": [
        "**We see that there is a good strong linear relationship between Sales and TV Spend**"
      ]
    },
    {
      "cell_type": "code",
      "execution_count": null,
      "metadata": {
        "id": "2tVGvHDQlSVg"
      },
      "outputs": [],
      "source": [
        "#Code Here: Plot the relationship between Sales and Radio Spend\n",
        "plt.figure(figsize = (8,4))\n",
        "sns.scatterplot(data=df, x='radio',y='sales')\n",
        "plt.title('Sales vs Radio Spend')\n",
        "plt.show()"
      ]
    },
    {
      "cell_type": "code",
      "execution_count": null,
      "metadata": {
        "id": "FYZ8GaZmlbsA"
      },
      "outputs": [],
      "source": [
        "#Code Here: Plot the relationship between Sales and Newspaper Spend\n",
        "plt.figure(figsize = (8,4))\n",
        "sns.scatterplot(data=df, x='newspaper',y='sales')\n",
        "plt.title('Sales vs Newspaper Spend')\n",
        "plt.show()"
      ]
    },
    {
      "cell_type": "code",
      "execution_count": null,
      "metadata": {
        "id": "jnCKciuSlhpB"
      },
      "outputs": [],
      "source": [
        "# So now let us try to build a linear model. We will import the statsmodels library\n",
        "# We are using the Statsmodels library for Ordinary Least Squares Regression\n",
        "import statsmodels.formula.api as smf"
      ]
    },
    {
      "cell_type": "code",
      "execution_count": null,
      "metadata": {
        "id": "46qwCGHc8IW0"
      },
      "outputs": [],
      "source": [
        "# Code Here\n",
        "# Statsmodels provides the capability to define the model as a formula - Sales ~ TV\n",
        "# Create a model that maps the relationship between sales and tv spend\n",
        "# y ~ x -> Simple Linear Regression\n",
        "sm_sales_tv_model = smf.ols(formula = 'sales ~ TV', data=df).fit()"
      ]
    },
    {
      "cell_type": "code",
      "execution_count": null,
      "metadata": {
        "id": "FtVMy22u8ODC"
      },
      "outputs": [],
      "source": [
        "# Code here\n",
        "# Observe the summary of the model\n",
        "# Sales = 0.0475*TV+7.0326\n",
        "print(sm_sales_tv_model.summary())"
      ]
    },
    {
      "cell_type": "code",
      "execution_count": null,
      "metadata": {
        "id": "lPwA-DYP9B2N"
      },
      "outputs": [],
      "source": [
        "# Code Here\n",
        "# Build a model that includes TV and Radio...We will observe if it gives a better\n",
        "# prediction\n",
        "sm_sales_tv_radio_model = smf.ols(formula = 'sales ~ TV + radio', data=df).fit()"
      ]
    },
    {
      "cell_type": "code",
      "execution_count": null,
      "metadata": {
        "id": "H8fRsQqQ9Y8v"
      },
      "outputs": [],
      "source": [
        "# Code here\n",
        "# Print the summary of the model that models Sales ~ TV+ Radio\n",
        "# sales = 0.0458*TV + 0.188*radio + 2.9211\n",
        "print(sm_sales_tv_radio_model.summary())"
      ]
    },
    {
      "cell_type": "code",
      "execution_count": null,
      "metadata": {
        "id": "_jXeoygz9ehm"
      },
      "outputs": [],
      "source": [
        "# Code here\n",
        "# Build a model that includes TV, Radio and Newspaper... We will observe if it improves\n",
        "# predictions\n",
        "sm_sales_tv_radio_np_model = smf.ols(formula = \"sales ~ TV + radio + newspaper\", data=df).fit()"
      ]
    },
    {
      "cell_type": "code",
      "execution_count": null,
      "metadata": {
        "id": "d2TvI9wc9lh8"
      },
      "outputs": [],
      "source": [
        "# Code Here\n",
        "# Print Model Summary and see the output\n",
        "print(sm_sales_tv_radio_np_model.summary())"
      ]
    },
    {
      "cell_type": "code",
      "execution_count": null,
      "metadata": {
        "id": "12ME4Pow90iu"
      },
      "outputs": [],
      "source": [
        "# Code here\n",
        "# Make predictions and name the variable as y_predict\n",
        "y_pred = sm_sales_tv_radio_model.predict(df)"
      ]
    },
    {
      "cell_type": "code",
      "execution_count": null,
      "metadata": {
        "id": "Kq1zB0JkShgr"
      },
      "outputs": [],
      "source": [
        "y_pred[0:5]"
      ]
    },
    {
      "cell_type": "code",
      "execution_count": null,
      "metadata": {
        "id": "xjqOfXln2tXt"
      },
      "outputs": [],
      "source": [
        "y_tv_pred = sm_sales_tv_model.predict(df)"
      ]
    },
    {
      "cell_type": "code",
      "execution_count": null,
      "metadata": {
        "id": "-p-heN5M9e2G"
      },
      "outputs": [],
      "source": [
        "plt.figure(figsize = (8,4))\n",
        "sns.scatterplot(data=df, x='TV',y='sales', color='blue')\n",
        "plt.plot(df['TV'], y_tv_pred, color='red')\n",
        "plt.title('Sales vs TV Spend')\n",
        "plt.show()"
      ]
    },
    {
      "cell_type": "code",
      "execution_count": null,
      "metadata": {
        "id": "njiUtIn5JO4I"
      },
      "outputs": [],
      "source": [
        "plt.figure(figsize = (8,4))\n",
        "plt.plot(df['TV'], y_tv_pred, color='red')\n",
        "plt.show()"
      ]
    },
    {
      "cell_type": "code",
      "execution_count": null,
      "metadata": {
        "id": "j6Pbvi4r-3gV"
      },
      "outputs": [],
      "source": [
        "from sklearn.metrics import mean_squared_error\n",
        "from sklearn.metrics import mean_absolute_error"
      ]
    },
    {
      "cell_type": "code",
      "execution_count": null,
      "metadata": {
        "id": "CeXo_8zx_DaM"
      },
      "outputs": [],
      "source": [
        "# Code Here\n",
        "# Calculate Root Mean Squared Error\n",
        "## In Colab\n",
        "from sklearn.metrics import root_mean_squared_error\n",
        "print(f\"Mean Squared Error {mean_squared_error(y_pred = y_pred, y_true = df['sales'])}\")\n",
        "print(f\"Root Mean Squared Error {root_mean_squared_error(y_pred = y_pred, y_true = df['sales'])}\")\n",
        "print(f\"Mean Absolute Error {mean_absolute_error(y_pred = y_pred, y_true = df['sales'])}\")"
      ]
    },
    {
      "cell_type": "code",
      "execution_count": null,
      "metadata": {
        "id": "8oVm42sjDijO"
      },
      "outputs": [],
      "source": [
        "# Code Here\n",
        "# Calculate Root Mean Squared Error\n",
        "## In SL Lab\n",
        "#print(f\"Root Mean Squared Error {mean_squared_error(y_pred = y_pred, y_true = df['sales'], squared=False)}\")"
      ]
    },
    {
      "cell_type": "markdown",
      "metadata": {
        "id": "hXu3XkzTfQil"
      },
      "source": [
        "# <strong> Machine Learning Process </strong>"
      ]
    },
    {
      "cell_type": "code",
      "execution_count": null,
      "metadata": {
        "id": "fFd8zr_0fQjS"
      },
      "outputs": [],
      "source": []
    }
  ],
  "metadata": {
    "colab": {
      "provenance": []
    },
    "kernelspec": {
      "display_name": "venv",
      "language": "python",
      "name": "python3"
    },
    "language_info": {
      "codemirror_mode": {
        "name": "ipython",
        "version": 3
      },
      "file_extension": ".py",
      "mimetype": "text/x-python",
      "name": "python",
      "nbconvert_exporter": "python",
      "pygments_lexer": "ipython3",
      "version": "3.12.2"
    }
  },
  "nbformat": 4,
  "nbformat_minor": 0
}
